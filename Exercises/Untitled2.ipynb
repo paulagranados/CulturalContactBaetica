{
 "cells": [
  {
   "cell_type": "code",
   "execution_count": 11,
   "metadata": {},
   "outputs": [
    {
     "name": "stdout",
     "output_type": "stream",
     "text": [
      "<generator object Graph.objects at 0x10a474678>\n"
     ]
    }
   ],
   "source": [
    "import google Local file\n",
    "\n",
    "from rdflib import Graph, plugin\n",
    "from rdflib.serializer import Serializer\n",
    "\n",
    "pj = open('periodo_periods.json')\n",
    "perjson = pj.read()\n",
    "\n",
    "g = Graph().parse(data=perjson, format='json-ld')\n",
    "def lookup_per (time_period):\n",
    "    \n",
    "\n",
    "\n"
   ]
  }
 ],
 "metadata": {
  "kernelspec": {
   "display_name": "Python 3",
   "language": "python",
   "name": "python3"
  },
  "language_info": {
   "codemirror_mode": {
    "name": "ipython",
    "version": 3
   },
   "file_extension": ".py",
   "mimetype": "text/x-python",
   "name": "python",
   "nbconvert_exporter": "python",
   "pygments_lexer": "ipython3",
   "version": "3.6.4"
  }
 },
 "nbformat": 4,
 "nbformat_minor": 2
}

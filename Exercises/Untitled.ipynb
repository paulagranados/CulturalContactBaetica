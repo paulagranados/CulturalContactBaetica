{
 "cells": [
  {
   "cell_type": "code",
   "execution_count": 85,
   "metadata": {},
   "outputs": [
    {
     "ename": "TypeError",
     "evalue": "findall() missing 1 required positional argument: 'string'",
     "output_type": "error",
     "traceback": [
      "\u001b[0;31m---------------------------------------------------------------------------\u001b[0m",
      "\u001b[0;31mTypeError\u001b[0m                                 Traceback (most recent call last)",
      "\u001b[0;32m<ipython-input-85-007d461312ee>\u001b[0m in \u001b[0;36m<module>\u001b[0;34m()\u001b[0m\n\u001b[1;32m      8\u001b[0m \u001b[0;32mwith\u001b[0m \u001b[0mopen\u001b[0m\u001b[0;34m(\u001b[0m\u001b[0;34m\"dare.txt\"\u001b[0m\u001b[0;34m,\u001b[0m \u001b[0;34m\"r\"\u001b[0m\u001b[0;34m)\u001b[0m \u001b[0;32mas\u001b[0m \u001b[0mf\u001b[0m\u001b[0;34m:\u001b[0m\u001b[0;34m\u001b[0m\u001b[0m\n\u001b[1;32m      9\u001b[0m     \u001b[0;32mfor\u001b[0m \u001b[0ml\u001b[0m \u001b[0;32min\u001b[0m \u001b[0mf\u001b[0m\u001b[0;34m:\u001b[0m\u001b[0;34m\u001b[0m\u001b[0m\n\u001b[0;32m---> 10\u001b[0;31m         \u001b[0mfound\u001b[0m \u001b[0;34m=\u001b[0m \u001b[0mre\u001b[0m\u001b[0;34m.\u001b[0m\u001b[0mfindall\u001b[0m\u001b[0;34m(\u001b[0m\u001b[0;34m\"(.*)(\\.html), found\"\u001b[0m\u001b[0;34m)\u001b[0m\u001b[0;34m\u001b[0m\u001b[0m\n\u001b[0m\u001b[1;32m     11\u001b[0m         \u001b[0mprint\u001b[0m\u001b[0;34m(\u001b[0m\u001b[0mfound\u001b[0m\u001b[0;34m)\u001b[0m\u001b[0;34m\u001b[0m\u001b[0m\n\u001b[1;32m     12\u001b[0m \u001b[0;34m\u001b[0m\u001b[0m\n",
      "\u001b[0;31mTypeError\u001b[0m: findall() missing 1 required positional argument: 'string'"
     ]
    }
   ],
   "source": [
    "import re\n",
    "import os\n",
    "#text = ('dare.txt')\n",
    "#found = re.findall ('html', text)\n",
    "#text.split('html')\n",
    "#\tprint (text)\n",
    "\n",
    "with open(\"dare.txt\", \"r\") as f:\n",
    "    for l in f:\n",
    "        found = re.findall(\"(.*)(\\.html)\")\n",
    "        print(found)\n",
    "    \n",
    "        \n",
    "\n",
    "\n",
    " \n",
    "\n",
    "\n",
    "        \n",
    "\n"
   ]
  },
  {
   "cell_type": "code",
   "execution_count": 90,
   "metadata": {},
   "outputs": [
    {
     "name": "stdout",
     "output_type": "stream",
     "text": [
      "['http://dare.ht.lu.se/places/36498.html', 'http://dare.ht.lu.se/places/25139.html', 'http://dare.ht.lu.se/places/31331.html', 'http://dare.ht.lu.se/places/22263.html', 'http://dare.ht.lu.se/places/23496.html', 'http://dare.ht.lu.se/places/31335.html', 'http://dare.ht.lu.se/places/25250.html', 'http://dare.ht.lu.se/places/22431.html', 'http://dare.ht.lu.se/places/22439.html', 'http://dare.ht.lu.se/places/22265.html', 'http://dare.ht.lu.se/places/25198.html', 'http://dare.ht.lu.se/places/16845.html', 'http://dare.ht.lu.se/places/31338.html', 'http://dare.ht.lu.se/places/25218.html', 'http://dare.ht.lu.se/places/22267.html', 'http://dare.ht.lu.se/places/33438.html', 'http://dare.ht.lu.se/places/22460.html', 'http://dare.ht.lu.se/places/31342.html', 'http://dare.ht.lu.se/places/33441.html', 'http://dare.ht.lu.se/places/31344.html', 'http://dare.ht.lu.se/places/31348.html', 'http://dare.ht.lu.se/places/25251.html', 'http://dare.ht.lu.se/places/22266.html', 'http://dare.ht.lu.se/places/22434.html', 'http://dare.ht.lu.se/places/25252.html', 'http://dare.ht.lu.se/places/22229.html', 'http://dare.ht.lu.se/places/31236.html', 'http://dare.ht.lu.se/places/22239.html', 'http://dare.ht.lu.se/places/25220.html', 'http://dare.ht.lu.se/places/31237.html', 'http://dare.ht.lu.se/places/34572.html', 'http://dare.ht.lu.se/places/16841.html', 'http://dare.ht.lu.se/places/31244.html', 'http://dare.ht.lu.se/places/31355.html', 'http://dare.ht.lu.se/places/22433.html', 'http://dare.ht.lu.se/places/25221.html', 'http://dare.ht.lu.se/places/36394.html', 'http://dare.ht.lu.se/places/23501.html', 'http://dare.ht.lu.se/places/12782.html', 'http://dare.ht.lu.se/places/31252.html', 'http://dare.ht.lu.se/places/31255.html', 'http://dare.ht.lu.se/places/16838.html', 'http://dare.ht.lu.se/places/26910.html', 'http://dare.ht.lu.se/places/26923.html', 'http://dare.ht.lu.se/places/31253.html', 'http://dare.ht.lu.se/places/25130.html', 'http://dare.ht.lu.se/places/22430.html', 'http://dare.ht.lu.se/places/26914.html', 'http://dare.ht.lu.se/places/40005.html', 'http://dare.ht.lu.se/places/22428.html', 'http://dare.ht.lu.se/places/16679.html', 'http://dare.ht.lu.se/places/16844.html', 'http://dare.ht.lu.se/places/16831.html', 'http://dare.ht.lu.se/places/31264.html', 'http://dare.ht.lu.se/places/16835.html', 'http://dare.ht.lu.se/places/31265.html', 'http://dare.ht.lu.se/places/22232.html', 'http://dare.ht.lu.se/places/25134.html', 'http://dare.ht.lu.se/places/22441.html', 'http://dare.ht.lu.se/places/25199.html', 'http://dare.ht.lu.se/places/16907.html', 'http://dare.ht.lu.se/places/25136.html', 'http://dare.ht.lu.se/places/31266.html', 'http://dare.ht.lu.se/places/25138.html', 'http://dare.ht.lu.se/places/31268.html', 'http://dare.ht.lu.se/places/22529.html', 'http://dare.ht.lu.se/places/22233.html', 'http://dare.ht.lu.se/places/16834.html', 'http://dare.ht.lu.se/places/31269.html', 'http://dare.ht.lu.se/places/25200.html', 'http://dare.ht.lu.se/places/31270.html', 'http://dare.ht.lu.se/places/31273.html', 'http://dare.ht.lu.se/places/31276.html', 'http://dare.ht.lu.se/places/25202.html', 'http://dare.ht.lu.se/places/16832.html', 'http://dare.ht.lu.se/places/31285.html', 'http://dare.ht.lu.se/places/21359.html', 'http://dare.ht.lu.se/places/37946.html', 'http://dare.ht.lu.se/places/31292.html', 'http://dare.ht.lu.se/places/24861.html', 'http://dare.ht.lu.se/places/22482.html', 'http://dare.ht.lu.se/places/25205.html', 'http://dare.ht.lu.se/places/25206.html', 'http://dare.ht.lu.se/places/23503.html', 'http://dare.ht.lu.se/places/25207.html', 'http://dare.ht.lu.se/places/31297.html', 'http://dare.ht.lu.se/places/26933.html', 'http://dare.ht.lu.se/places/31294.html', 'http://dare.ht.lu.se/places/22426.html', 'http://dare.ht.lu.se/places/31295.html', 'http://dare.ht.lu.se/places/31296.html', 'http://dare.ht.lu.se/places/31297.html', 'http://dare.ht.lu.se/places/26935.html', 'http://dare.ht.lu.se/places/22426.html', 'http://dare.ht.lu.se/places/25208.html', 'http://dare.ht.lu.se/places/16836.html', 'http://dare.ht.lu.se/places/31299.html', 'http://dare.ht.lu.se/places/22246.html', 'http://dare.ht.lu.se/places/22461.html', 'http://dare.ht.lu.se/places/23124.html', 'http://dare.ht.lu.se/places/25210.html', 'http://dare.ht.lu.se/places/25139.html', 'http://dare.ht.lu.se/places/31308.html', 'http://dare.ht.lu.se/places/31309.html', 'http://dare.ht.lu.se/places/25140.html', 'http://dare.ht.lu.se/places/22425.html', 'http://dare.ht.lu.se/places/25211.html', 'http://dare.ht.lu.se/places/25214.html', 'http://dare.ht.lu.se/places/22440.html', 'http://dare.ht.lu.se/places/22264.html', 'http://dare.ht.lu.se/places/25142.html', 'http://dare.ht.lu.se/places/25143.html', 'http://dare.ht.lu.se/places/31319.html', 'http://dare.ht.lu.se/places/25200.html', 'http://dare.ht.lu.se/places/16843.html', 'http://dare.ht.lu.se/places/26953.html', 'http://dare.ht.lu.se/places/23502.html', 'http://dare.ht.lu.se/places/26954.html', 'http://dare.ht.lu.se/places/22435.html', 'http://dare.ht.lu.se/places/23501.html', 'http://dare.ht.lu.se/places/31324.html', 'http://dare.ht.lu.se/places/22430.html', 'http://dare.ht.lu.se/places/22432.html', 'http://dare.ht.lu.se/places/31325.html', 'http://dare.ht.lu.se/places/31326.html', 'http://dare.ht.lu.se/places/22607.html', 'http://dare.ht.lu.se/places/21358.html', 'http://dare.ht.lu.se/places/36498.html', 'http://dare.ht.lu.se/places/25139.html', 'http://dare.ht.lu.se/places/31331.html', 'http://dare.ht.lu.se/places/22263.html', 'http://dare.ht.lu.se/places/23496.html', 'http://dare.ht.lu.se/places/31335.html', 'http://dare.ht.lu.se/places/25250.html', 'http://dare.ht.lu.se/places/22431.html', 'http://dare.ht.lu.se/places/22439.html', 'http://dare.ht.lu.se/places/22265.html', 'http://dare.ht.lu.se/places/25198.html', 'http://dare.ht.lu.se/places/16845.html', 'http://dare.ht.lu.se/places/31338.html', 'http://dare.ht.lu.se/places/25218.html', 'http://dare.ht.lu.se/places/22267.html', 'http://dare.ht.lu.se/places/33438.html', 'http://dare.ht.lu.se/places/22460.html', 'http://dare.ht.lu.se/places/31342.html', 'http://dare.ht.lu.se/places/33441.html', 'http://dare.ht.lu.se/places/31344.html', 'http://dare.ht.lu.se/places/31348.html', 'http://dare.ht.lu.se/places/25251.html', 'http://dare.ht.lu.se/places/22266.html', 'http://dare.ht.lu.se/places/22434.html', 'http://dare.ht.lu.se/places/25252.html', 'http://dare.ht.lu.se/places/22229.html', 'http://dare.ht.lu.se/places/31236.html', 'http://dare.ht.lu.se/places/22239.html', 'http://dare.ht.lu.se/places/25220.html', 'http://dare.ht.lu.se/places/31237.html', 'http://dare.ht.lu.se/places/34572.html', 'http://dare.ht.lu.se/places/16841.html', 'http://dare.ht.lu.se/places/31244.html', 'http://dare.ht.lu.se/places/31355.html', 'http://dare.ht.lu.se/places/22433.html', 'http://dare.ht.lu.se/places/25221.html', 'http://dare.ht.lu.se/places/36394.html', 'http://dare.ht.lu.se/places/23501.html', 'http://dare.ht.lu.se/places/12782.html', 'http://dare.ht.lu.se/places/31252.html', 'http://dare.ht.lu.se/places/31255.html', 'http://dare.ht.lu.se/places/16838.html', 'http://dare.ht.lu.se/places/26910.html', 'http://dare.ht.lu.se/places/26923.html', 'http://dare.ht.lu.se/places/31253.html', 'http://dare.ht.lu.se/places/25130.html', 'http://dare.ht.lu.se/places/22430.html', 'http://dare.ht.lu.se/places/26914.html', 'http://dare.ht.lu.se/places/40005.html', 'http://dare.ht.lu.se/places/22428.html', 'http://dare.ht.lu.se/places/16679.html', 'http://dare.ht.lu.se/places/16844.html', 'http://dare.ht.lu.se/places/16831.html', 'http://dare.ht.lu.se/places/31264.html', 'http://dare.ht.lu.se/places/16835.html', 'http://dare.ht.lu.se/places/31265.html', 'http://dare.ht.lu.se/places/22232.html', 'http://dare.ht.lu.se/places/25134.html', 'http://dare.ht.lu.se/places/22441.html', 'http://dare.ht.lu.se/places/25199.html', 'http://dare.ht.lu.se/places/16907.html', 'http://dare.ht.lu.se/places/25136.html', 'http://dare.ht.lu.se/places/31266.html', 'http://dare.ht.lu.se/places/25138.html', 'http://dare.ht.lu.se/places/31268.html', 'http://dare.ht.lu.se/places/22529.html', 'http://dare.ht.lu.se/places/22233.html', 'http://dare.ht.lu.se/places/16834.html', 'http://dare.ht.lu.se/places/31269.html', 'http://dare.ht.lu.se/places/25200.html', 'http://dare.ht.lu.se/places/31270.html', 'http://dare.ht.lu.se/places/31273.html', 'http://dare.ht.lu.se/places/31276.html', 'http://dare.ht.lu.se/places/25202.html', 'http://dare.ht.lu.se/places/16832.html', 'http://dare.ht.lu.se/places/31285.html', 'http://dare.ht.lu.se/places/21359.html', 'http://dare.ht.lu.se/places/37946.html', 'http://dare.ht.lu.se/places/31292.html', 'http://dare.ht.lu.se/places/24861.html', 'http://dare.ht.lu.se/places/22482.html', 'http://dare.ht.lu.se/places/25205.html', 'http://dare.ht.lu.se/places/25206.html', 'http://dare.ht.lu.se/places/23503.html', 'http://dare.ht.lu.se/places/25207.html', 'http://dare.ht.lu.se/places/31297.html', 'http://dare.ht.lu.se/places/26933.html', 'http://dare.ht.lu.se/places/31294.html', 'http://dare.ht.lu.se/places/22426.html', 'http://dare.ht.lu.se/places/31295.html', 'http://dare.ht.lu.se/places/31296.html', 'http://dare.ht.lu.se/places/31297.html', 'http://dare.ht.lu.se/places/26935.html', 'http://dare.ht.lu.se/places/22426.html', 'http://dare.ht.lu.se/places/25208.html', 'http://dare.ht.lu.se/places/16836.html', 'http://dare.ht.lu.se/places/31299.html', 'http://dare.ht.lu.se/places/22246.html', 'http://dare.ht.lu.se/places/22461.html', 'http://dare.ht.lu.se/places/23124.html', 'http://dare.ht.lu.se/places/25210.html', 'http://dare.ht.lu.se/places/25139.html', 'http://dare.ht.lu.se/places/31308.html', 'http://dare.ht.lu.se/places/31309.html', 'http://dare.ht.lu.se/places/25140.html', 'http://dare.ht.lu.se/places/22425.html', 'http://dare.ht.lu.se/places/25211.html', 'http://dare.ht.lu.se/places/25214.html', 'http://dare.ht.lu.se/places/22440.html', 'http://dare.ht.lu.se/places/22264.html', 'http://dare.ht.lu.se/places/25142.html', 'http://dare.ht.lu.se/places/25143.html', 'http://dare.ht.lu.se/places/31319.html', 'http://dare.ht.lu.se/places/25200.html', 'http://dare.ht.lu.se/places/16843.html', 'http://dare.ht.lu.se/places/26953.html', 'http://dare.ht.lu.se/places/23502.html', 'http://dare.ht.lu.se/places/26954.html', 'http://dare.ht.lu.se/places/22435.html', 'http://dare.ht.lu.se/places/23501.html', 'http://dare.ht.lu.se/places/31324.html', 'http://dare.ht.lu.se/places/22430.html', 'http://dare.ht.lu.se/places/22432.html', 'http://dare.ht.lu.se/places/31325.html', 'http://dare.ht.lu.se/places/31326.html', 'http://dare.ht.lu.se/places/22607.html', 'http://dare.ht.lu.se/places/21358.html', 'http://dare.ht.lu.se/places/36498.html', 'http://dare.ht.lu.se/places/25139.html', 'http://dare.ht.lu.se/places/31331.html', 'http://dare.ht.lu.se/places/22263.html', 'http://dare.ht.lu.se/places/23496.html', 'http://dare.ht.lu.se/places/31335.html', 'http://dare.ht.lu.se/places/25250.html', 'http://dare.ht.lu.se/places/22431.html', 'http://dare.ht.lu.se/places/22439.html', 'http://dare.ht.lu.se/places/22265.html', 'http://dare.ht.lu.se/places/25198.html', 'http://dare.ht.lu.se/places/16845.html', 'http://dare.ht.lu.se/places/31338.html', 'http://dare.ht.lu.se/places/25218.html', 'http://dare.ht.lu.se/places/22267.html', 'http://dare.ht.lu.se/places/33438.html', 'http://dare.ht.lu.se/places/22460.html', 'http://dare.ht.lu.se/places/31342.html', 'http://dare.ht.lu.se/places/33441.html', 'http://dare.ht.lu.se/places/31344.html', 'http://dare.ht.lu.se/places/31348.html', 'http://dare.ht.lu.se/places/25251.html', 'http://dare.ht.lu.se/places/22266.html', 'http://dare.ht.lu.se/places/22434.html', 'http://dare.ht.lu.se/places/25252.html', 'http://dare.ht.lu.se/places/22229.html', 'http://dare.ht.lu.se/places/31236.html', 'http://dare.ht.lu.se/places/22239.html', 'http://dare.ht.lu.se/places/25220.html', 'http://dare.ht.lu.se/places/31237.html', 'http://dare.ht.lu.se/places/34572.html', 'http://dare.ht.lu.se/places/16841.html', 'http://dare.ht.lu.se/places/31244.html', 'http://dare.ht.lu.se/places/31355.html', 'http://dare.ht.lu.se/places/22433.html', 'http://dare.ht.lu.se/places/25221.html', 'http://dare.ht.lu.se/places/36394.html', 'http://dare.ht.lu.se/places/23501.html', 'http://dare.ht.lu.se/places/12782.html', 'http://dare.ht.lu.se/places/31252.html', 'http://dare.ht.lu.se/places/31255.html', 'http://dare.ht.lu.se/places/16838.html', 'http://dare.ht.lu.se/places/26910.html', 'http://dare.ht.lu.se/places/26923.html', 'http://dare.ht.lu.se/places/31253.html', 'http://dare.ht.lu.se/places/25130.html', 'http://dare.ht.lu.se/places/22430.html', 'http://dare.ht.lu.se/places/26914.html', 'http://dare.ht.lu.se/places/40005.html', 'http://dare.ht.lu.se/places/22428.html', 'http://dare.ht.lu.se/places/16679.html', 'http://dare.ht.lu.se/places/16844.html', 'http://dare.ht.lu.se/places/16831.html', 'http://dare.ht.lu.se/places/31264.html', 'http://dare.ht.lu.se/places/16835.html', 'http://dare.ht.lu.se/places/31265.html', 'http://dare.ht.lu.se/places/22232.html', 'http://dare.ht.lu.se/places/25134.html', 'http://dare.ht.lu.se/places/22441.html', 'http://dare.ht.lu.se/places/25199.html', 'http://dare.ht.lu.se/places/16907.html', 'http://dare.ht.lu.se/places/25136.html', 'http://dare.ht.lu.se/places/31266.html', 'http://dare.ht.lu.se/places/25138.html', 'http://dare.ht.lu.se/places/31268.html', 'http://dare.ht.lu.se/places/22529.html', 'http://dare.ht.lu.se/places/22233.html', 'http://dare.ht.lu.se/places/16834.html', 'http://dare.ht.lu.se/places/31269.html', 'http://dare.ht.lu.se/places/25200.html', 'http://dare.ht.lu.se/places/31270.html', 'http://dare.ht.lu.se/places/31273.html', 'http://dare.ht.lu.se/places/31276.html', 'http://dare.ht.lu.se/places/25202.html', 'http://dare.ht.lu.se/places/16832.html', 'http://dare.ht.lu.se/places/31285.html', 'http://dare.ht.lu.se/places/21359.html', 'http://dare.ht.lu.se/places/37946.html', 'http://dare.ht.lu.se/places/31292.html', 'http://dare.ht.lu.se/places/24861.html', 'http://dare.ht.lu.se/places/22482.html', 'http://dare.ht.lu.se/places/25205.html', 'http://dare.ht.lu.se/places/25206.html', 'http://dare.ht.lu.se/places/23503.html', 'http://dare.ht.lu.se/places/25207.html', 'http://dare.ht.lu.se/places/31297.html', 'http://dare.ht.lu.se/places/26933.html', 'http://dare.ht.lu.se/places/31294.html', 'http://dare.ht.lu.se/places/22426.html', 'http://dare.ht.lu.se/places/31295.html', 'http://dare.ht.lu.se/places/31296.html', 'http://dare.ht.lu.se/places/31297.html', 'http://dare.ht.lu.se/places/26935.html', 'http://dare.ht.lu.se/places/22426.html', 'http://dare.ht.lu.se/places/25208.html', 'http://dare.ht.lu.se/places/16836.html', 'http://dare.ht.lu.se/places/31299.html', 'http://dare.ht.lu.se/places/22246.html', 'http://dare.ht.lu.se/places/22461.html', 'http://dare.ht.lu.se/places/23124.html', 'http://dare.ht.lu.se/places/25210.html', 'http://dare.ht.lu.se/places/25139.html', 'http://dare.ht.lu.se/places/31308.html', 'http://dare.ht.lu.se/places/31309.html', 'http://dare.ht.lu.se/places/25140.html', 'http://dare.ht.lu.se/places/22425.html', 'http://dare.ht.lu.se/places/25211.html', 'http://dare.ht.lu.se/places/25214.html', 'http://dare.ht.lu.se/places/22440.html', 'http://dare.ht.lu.se/places/22264.html', 'http://dare.ht.lu.se/places/25142.html', 'http://dare.ht.lu.se/places/25143.html', 'http://dare.ht.lu.se/places/31319.html', 'http://dare.ht.lu.se/places/25200.html', 'http://dare.ht.lu.se/places/16843.html', 'http://dare.ht.lu.se/places/26953.html', 'http://dare.ht.lu.se/places/23502.html', 'http://dare.ht.lu.se/places/26954.html', 'http://dare.ht.lu.se/places/22435.html', 'http://dare.ht.lu.se/places/23501.html', 'http://dare.ht.lu.se/places/31324.html', 'http://dare.ht.lu.se/places/22430.html', 'http://dare.ht.lu.se/places/22432.html', 'http://dare.ht.lu.se/places/31325.html', 'http://dare.ht.lu.se/places/31326.html', 'http://dare.ht.lu.se/places/22607.html', 'http://dare.ht.lu.se/places/21358.html']\n"
     ]
    }
   ],
   "source": [
    "import re\n",
    "\n",
    "result = []\n",
    "\n",
    "with open(\"dare.txt\", \"r\") as f:\n",
    "    filelines = f.readlines()\n",
    "    \n",
    "for fileLine in filelines:\n",
    "    fileLine = fileLine.strip()\n",
    "    lineElems = fileLine.split(\",\")\n",
    "    \n",
    "    for lineElem in lineElems:\n",
    "        pattern = re.compile(\"(.*)\\.html\")\n",
    "        if pattern.match(lineElem):\n",
    "            #print(\"Adding %s\" % lineElem)\n",
    "            result.append(lineElem)\n",
    "            \n",
    "print(result)"
   ]
  },
  {
   "cell_type": "code",
   "execution_count": null,
   "metadata": {},
   "outputs": [],
   "source": []
  }
 ],
 "metadata": {
  "kernelspec": {
   "display_name": "Python 3",
   "language": "python",
   "name": "python3"
  },
  "language_info": {
   "codemirror_mode": {
    "name": "ipython",
    "version": 3
   },
   "file_extension": ".py",
   "mimetype": "text/x-python",
   "name": "python",
   "nbconvert_exporter": "python",
   "pygments_lexer": "ipython3",
   "version": "3.6.4"
  }
 },
 "nbformat": 4,
 "nbformat_minor": 2
}

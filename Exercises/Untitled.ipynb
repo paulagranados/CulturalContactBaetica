{
 "cells": [
  {
   "cell_type": "code",
   "execution_count": 22,
   "metadata": {},
   "outputs": [
    {
     "name": "stdout",
     "output_type": "stream",
     "text": [
      "http://collection.britishmuseum.org/id/object/CEM14859\n",
      "http://collection.britishmuseum.org/id/object/CEM14860\n",
      "http://collection.britishmuseum.org/id/object/COC35385\n",
      "http://collection.britishmuseum.org/id/object/CGR101455\n",
      "http://collection.britishmuseum.org/id/object/CGR109920\n",
      "http://collection.britishmuseum.org/id/object/CGR110197\n",
      "http://collection.britishmuseum.org/id/object/CGR110205\n",
      "http://collection.britishmuseum.org/id/object/CGR140499\n",
      "http://collection.britishmuseum.org/id/object/CGR149094\n",
      "http://collection.britishmuseum.org/id/object/CGR149095\n"
     ]
    }
   ],
   "source": [
    "from SPARQLWrapper import SPARQLWrapper, JSON\n",
    "\n",
    "sparql = SPARQLWrapper(\"https://collection.britishmuseum.org/sparql\") \n",
    "sparql.setQuery(\"\"\"\n",
    "    PREFIX skos: <http://www.w3.org/2004/02/skos/core>\n",
    "    PREFIX thes: <http://collection.britishmuseum.org/id/thesauri/>\n",
    "    PREFIX rso: <http://www.researchspace.org/ontology/>\n",
    "     SELECT DISTINCT ?coin WHERE {\n",
    "  ?coin rso:PX_object_type/skos:broader* thes:x6089\n",
    "  ; rso:Thing_from_Place/(<http://www.cidoc-crm.org/cidoc-crm/P88i_forms_part_of>|^rso:Place_has_part_Place|skos:broader)* <http://collection.britishmuseum.org/id/place/x22782>\n",
    "  }  LIMIT 10\n",
    "\"\"\")\n",
    "sparql.setReturnFormat(JSON)\n",
    "results = sparql.query().convert()\n",
    "for result in results [\"results\"][\"bindings\"]:\n",
    "    print (result[\"coin\"][\"value\"])"
   ]
  },
  {
   "cell_type": "code",
   "execution_count": null,
   "metadata": {},
   "outputs": [],
   "source": []
  },
  {
   "cell_type": "code",
   "execution_count": null,
   "metadata": {},
   "outputs": [],
   "source": []
  }
 ],
 "metadata": {
  "kernelspec": {
   "display_name": "Python 3",
   "language": "python",
   "name": "python3"
  },
  "language_info": {
   "codemirror_mode": {
    "name": "ipython",
    "version": 3
   },
   "file_extension": ".py",
   "mimetype": "text/x-python",
   "name": "python",
   "nbconvert_exporter": "python",
   "pygments_lexer": "ipython3",
   "version": "3.6.4"
  }
 },
 "nbformat": 4,
 "nbformat_minor": 2
}
